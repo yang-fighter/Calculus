{
 "cells": [
  {
   "cell_type": "code",
   "execution_count": 3,
   "metadata": {
    "collapsed": true
   },
   "outputs": [],
   "source": [
    "import numpy as np\n",
    "import matplotlib.pyplot as plt\n",
    "import seaborn as sns\n",
    "from ipywidgets import interact, interactive, fixed, interact_manual\n",
    "from ipywidgets import widgets\n",
    "\n",
    "#%matplotlib inline \n",
    "\n",
    "sns.set()\n",
    "sns.set_style(\"whitegrid\")\n",
    "sns.set_context(\"poster\")"
   ]
  },
  {
   "cell_type": "code",
   "execution_count": 4,
   "metadata": {
    "collapsed": true
   },
   "outputs": [],
   "source": [
    "def f(x):\n",
    "    return 1-x**2"
   ]
  },
  {
   "cell_type": "code",
   "execution_count": 5,
   "metadata": {
    "collapsed": true
   },
   "outputs": [],
   "source": [
    "def riemannplot(a,b,n,lrm,rec=False,xyc=False,bar_edge=True,uni_step=True):\n",
    "    if n<=0:\n",
    "        print(\"Error: n must be positive\")\n",
    "        return False\n",
    "    def fct(x):\n",
    "        return 1-x**2\n",
    "    \n",
    "    dic={\"left\":0, \"right\":1, \"middle\":0.5}\n",
    "    x = np.linspace(a,b,100)\n",
    "    y = fct(x)\n",
    "    \n",
    "    fig = plt.figure()\n",
    "    ax = fig.add_subplot(111)\n",
    "    ax.plot(x,y,'k')\n",
    "    ax.fill_between(x,y,alpha=0.5)\n",
    "    ax.text(0.6,0.9,'$f(x)=1-x^2$',fontsize=35)\n",
    "    if rec==False:\n",
    "        plt.show()\n",
    "        return\n",
    "    if uni_step:\n",
    "        dx = float((b-a)/n)\n",
    "        riemannx = np.linspace(a,b,n+1)[:-1]\n",
    "        h = np.ones(n)*dx\n",
    "    else:\n",
    "        rd = np.random.rand(n)\n",
    "        h = rd/np.sum(rd)*(b-a)\n",
    "        rd = np.insert(h,0,0)[:-1]\n",
    "        riemannx = a + np.cumsum(rd)   \n",
    "        \n",
    "    \n",
    "    riemanny = fct(riemannx+dic[lrm]*h)\n",
    "    \n",
    "    if bar_edge:\n",
    "        ax.bar(riemannx,riemanny,width=h,alpha=0.5,facecolor='orange',edgecolor='red',linewidth=2,align='edge')\n",
    "    else:\n",
    "        ax.bar(riemannx,riemanny,width=h,alpha=0.5,facecolor='orange',linewidth=2,align='edge')\n",
    "\n",
    "    ax.set_xlabel('x')\n",
    "    ax.set_ylabel('y')\n",
    "    ax.set_title('Riemann '+lrm.title()+' Sum for f(x)')\n",
    "    if xyc==False:\n",
    "        plt.show()\n",
    "        return\n",
    "    ax.scatter(riemannx+dic[lrm]*h,riemanny,c='k')\n",
    "    for xc,yc,dx in zip(riemannx,riemanny,h):\n",
    "        ax.text(xc+dic[lrm]*dx, yc+0.02, '('+format(xc+dic[lrm]*dx,'.3f')+', '+format(yc,'.3f')+')')\n",
    "    plt.show()\n"
   ]
  },
  {
   "cell_type": "code",
   "execution_count": 6,
   "metadata": {},
   "outputs": [
    {
     "data": {
      "application/vnd.jupyter.widget-view+json": {
       "model_id": "f222a231dd1f409d80d345e30fa64f39"
      }
     },
     "metadata": {},
     "output_type": "display_data"
    }
   ],
   "source": [
    "#riemannplot(f,0,1,n,'right',xyc='None')\n",
    "interactive(riemannplot, a=(-1,0,0.5), b=(1,3,0.5), n=(1,50,1), lrm=['left','right','middle'], rec=False, xyc=False, bar_edge=True, uni_step=True)"
   ]
  },
  {
   "cell_type": "code",
   "execution_count": null,
   "metadata": {
    "collapsed": true
   },
   "outputs": [],
   "source": []
  }
 ],
 "metadata": {
  "kernelspec": {
   "display_name": "Python 3",
   "language": "python",
   "name": "python3"
  },
  "language_info": {
   "codemirror_mode": {
    "name": "ipython",
    "version": 3
   },
   "file_extension": ".py",
   "mimetype": "text/x-python",
   "name": "python",
   "nbconvert_exporter": "python",
   "pygments_lexer": "ipython3",
   "version": "3.6.1"
  },
  "latex_envs": {
   "LaTeX_envs_menu_present": true,
   "autocomplete": true,
   "bibliofile": "biblio.bib",
   "cite_by": "apalike",
   "current_citInitial": 1,
   "eqLabelWithNumbers": true,
   "eqNumInitial": 1,
   "hotkeys": {
    "equation": "Ctrl-E",
    "itemize": "Ctrl-I"
   },
   "labels_anchors": false,
   "latex_user_defs": false,
   "report_style_numbering": false,
   "user_envs_cfg": false
  },
  "toc": {
   "nav_menu": {},
   "number_sections": true,
   "sideBar": true,
   "skip_h1_title": false,
   "toc_cell": false,
   "toc_position": {},
   "toc_section_display": "block",
   "toc_window_display": false
  },
  "widgets": {
   "application/vnd.jupyter.widget-state+json": {
    "state": {
     "0258c4662033401aa8d2024177204659": {
      "model_module": "jupyter-js-widgets",
      "model_module_version": "~2.1.4",
      "model_name": "LayoutModel",
      "state": {
       "_model_module_version": "~2.1.4",
       "_view_module_version": "~2.1.4"
      }
     },
     "105dd91802a042778e166cc737e193f5": {
      "model_module": "jupyter-js-widgets",
      "model_module_version": "~2.1.4",
      "model_name": "CheckboxModel",
      "state": {
       "_model_module_version": "~2.1.4",
       "_view_module_version": "~2.1.4",
       "description": "rec",
       "disabled": false,
       "layout": "IPY_MODEL_39f6e37fda7644aeaed4f04ac47096c7",
       "value": true
      }
     },
     "28913e9f927e40c09053da13762c4f00": {
      "model_module": "jupyter-js-widgets",
      "model_module_version": "~2.1.4",
      "model_name": "LayoutModel",
      "state": {
       "_model_module_version": "~2.1.4",
       "_view_module_version": "~2.1.4"
      }
     },
     "2f8f035668e84cfabe9fd71d49168ec8": {
      "model_module": "jupyter-js-widgets",
      "model_module_version": "~2.1.4",
      "model_name": "LayoutModel",
      "state": {
       "_model_module_version": "~2.1.4",
       "_view_module_version": "~2.1.4"
      }
     },
     "39f6e37fda7644aeaed4f04ac47096c7": {
      "model_module": "jupyter-js-widgets",
      "model_module_version": "~2.1.4",
      "model_name": "LayoutModel",
      "state": {
       "_model_module_version": "~2.1.4",
       "_view_module_version": "~2.1.4"
      }
     },
     "5189fea18fe548eeb1a2d2019325138b": {
      "model_module": "jupyter-js-widgets",
      "model_module_version": "~2.1.4",
      "model_name": "OutputModel",
      "state": {
       "_dom_classes": [],
       "_model_module": "jupyter-js-widgets",
       "_model_module_version": "~2.1.4",
       "_view_module": "jupyter-js-widgets",
       "_view_module_version": "~2.1.4",
       "layout": "IPY_MODEL_28913e9f927e40c09053da13762c4f00",
       "msg_throttle": 1
      }
     },
     "5652f2cd7a0941178dad430256369540": {
      "model_module": "jupyter-js-widgets",
      "model_module_version": "~2.1.4",
      "model_name": "LayoutModel",
      "state": {
       "_model_module_version": "~2.1.4",
       "_view_module_version": "~2.1.4"
      }
     },
     "5899738e777e4c4abe7aee595286942b": {
      "model_module": "jupyter-js-widgets",
      "model_module_version": "~2.1.4",
      "model_name": "DropdownModel",
      "state": {
       "_model_module_version": "~2.1.4",
       "_options_labels": [
        "left",
        "right",
        "middle"
       ],
       "_view_module_version": "~2.1.4",
       "description": "lrm",
       "layout": "IPY_MODEL_5c88fef8ad3a4a10be4e4e8ccc593971",
       "value": "left"
      }
     },
     "5c88fef8ad3a4a10be4e4e8ccc593971": {
      "model_module": "jupyter-js-widgets",
      "model_module_version": "~2.1.4",
      "model_name": "LayoutModel",
      "state": {
       "_model_module_version": "~2.1.4",
       "_view_module_version": "~2.1.4"
      }
     },
     "646d6e0d4d7c4acf91faa010a4dff628": {
      "model_module": "jupyter-js-widgets",
      "model_module_version": "~2.1.4",
      "model_name": "CheckboxModel",
      "state": {
       "_model_module_version": "~2.1.4",
       "_view_module_version": "~2.1.4",
       "description": "uni_step",
       "disabled": false,
       "layout": "IPY_MODEL_0258c4662033401aa8d2024177204659",
       "value": true
      }
     },
     "70972c32cc1e48e0a1a7f0ce9e852d84": {
      "model_module": "jupyter-js-widgets",
      "model_module_version": "~2.1.4",
      "model_name": "LayoutModel",
      "state": {
       "_model_module_version": "~2.1.4",
       "_view_module_version": "~2.1.4"
      }
     },
     "9a2b7f91282948dc92846a08432927f4": {
      "model_module": "jupyter-js-widgets",
      "model_module_version": "~2.1.4",
      "model_name": "CheckboxModel",
      "state": {
       "_model_module_version": "~2.1.4",
       "_view_module_version": "~2.1.4",
       "description": "xyc",
       "disabled": false,
       "layout": "IPY_MODEL_daff538ef5d045b390c286220083792d",
       "value": false
      }
     },
     "a239c6221d0c4c0c9ce29cbb18fc3c73": {
      "model_module": "jupyter-js-widgets",
      "model_module_version": "~2.1.4",
      "model_name": "FloatSliderModel",
      "state": {
       "_model_module_version": "~2.1.4",
       "_view_module_version": "~2.1.4",
       "description": "b",
       "layout": "IPY_MODEL_5652f2cd7a0941178dad430256369540",
       "max": 3,
       "min": 1,
       "step": 0.5,
       "value": 1
      }
     },
     "b0431d740ed7495388824960b91dc6b3": {
      "model_module": "jupyter-js-widgets",
      "model_module_version": "~2.1.4",
      "model_name": "FloatSliderModel",
      "state": {
       "_model_module_version": "~2.1.4",
       "_view_module_version": "~2.1.4",
       "description": "a",
       "layout": "IPY_MODEL_70972c32cc1e48e0a1a7f0ce9e852d84",
       "max": 0,
       "min": -1,
       "step": 0.5
      }
     },
     "b980536c6eb64938a8514326d1d7eaa5": {
      "model_module": "jupyter-js-widgets",
      "model_module_version": "~2.1.4",
      "model_name": "IntSliderModel",
      "state": {
       "_model_module_version": "~2.1.4",
       "_view_module_version": "~2.1.4",
       "description": "n",
       "layout": "IPY_MODEL_2f8f035668e84cfabe9fd71d49168ec8",
       "max": 50,
       "min": 1,
       "style": "IPY_MODEL_e6c8a329e6a24f71b1426d966675af86",
       "value": 3
      }
     },
     "bc60f488a89c41faa8a37e95ccb6c6ac": {
      "model_module": "jupyter-js-widgets",
      "model_module_version": "~2.1.4",
      "model_name": "LayoutModel",
      "state": {
       "_model_module_version": "~2.1.4",
       "_view_module_version": "~2.1.4"
      }
     },
     "d6971bcfd56545cd8228910d8f2ce3fd": {
      "model_module": "jupyter-js-widgets",
      "model_module_version": "~2.1.4",
      "model_name": "CheckboxModel",
      "state": {
       "_model_module_version": "~2.1.4",
       "_view_module_version": "~2.1.4",
       "description": "bar_edge",
       "disabled": false,
       "layout": "IPY_MODEL_bc60f488a89c41faa8a37e95ccb6c6ac",
       "value": true
      }
     },
     "daff538ef5d045b390c286220083792d": {
      "model_module": "jupyter-js-widgets",
      "model_module_version": "~2.1.4",
      "model_name": "LayoutModel",
      "state": {
       "_model_module_version": "~2.1.4",
       "_view_module_version": "~2.1.4"
      }
     },
     "e6c8a329e6a24f71b1426d966675af86": {
      "model_module": "jupyter-js-widgets",
      "model_module_version": "~2.1.4",
      "model_name": "SliderStyleModel",
      "state": {
       "_model_module_version": "~2.1.4",
       "_view_module_version": "~2.1.4"
      }
     },
     "f222a231dd1f409d80d345e30fa64f39": {
      "model_module": "jupyter-js-widgets",
      "model_module_version": "~2.1.4",
      "model_name": "VBoxModel",
      "state": {
       "_dom_classes": [
        "widget-interact"
       ],
       "_model_module_version": "~2.1.4",
       "_view_module_version": "~2.1.4",
       "children": [
        "IPY_MODEL_b0431d740ed7495388824960b91dc6b3",
        "IPY_MODEL_a239c6221d0c4c0c9ce29cbb18fc3c73",
        "IPY_MODEL_b980536c6eb64938a8514326d1d7eaa5",
        "IPY_MODEL_5899738e777e4c4abe7aee595286942b",
        "IPY_MODEL_105dd91802a042778e166cc737e193f5",
        "IPY_MODEL_9a2b7f91282948dc92846a08432927f4",
        "IPY_MODEL_d6971bcfd56545cd8228910d8f2ce3fd",
        "IPY_MODEL_646d6e0d4d7c4acf91faa010a4dff628",
        "IPY_MODEL_5189fea18fe548eeb1a2d2019325138b"
       ],
       "layout": "IPY_MODEL_fe225bb912b04ab586e43f73696093f7"
      }
     },
     "fe225bb912b04ab586e43f73696093f7": {
      "model_module": "jupyter-js-widgets",
      "model_module_version": "~2.1.4",
      "model_name": "LayoutModel",
      "state": {
       "_model_module_version": "~2.1.4",
       "_view_module_version": "~2.1.4"
      }
     }
    },
    "version_major": 1,
    "version_minor": 0
   }
  }
 },
 "nbformat": 4,
 "nbformat_minor": 2
}
