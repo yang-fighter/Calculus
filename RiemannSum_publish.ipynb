{
 "cells": [
  {
   "cell_type": "code",
   "execution_count": 244,
   "metadata": {
    "collapsed": true
   },
   "outputs": [],
   "source": [
    "import numpy as np\n",
    "import matplotlib.pyplot as plt\n",
    "import seaborn as sns\n",
    "from ipywidgets import interact, interactive, fixed, interact_manual\n",
    "from ipywidgets import widgets\n",
    "\n",
    "#%matplotlib inline \n",
    "\n",
    "sns.set()\n",
    "sns.set_style(\"whitegrid\")\n",
    "sns.set_context(\"poster\")"
   ]
  },
  {
   "cell_type": "code",
   "execution_count": 245,
   "metadata": {
    "collapsed": true
   },
   "outputs": [],
   "source": [
    "def f(x):\n",
    "    return 1-x**2"
   ]
  },
  {
   "cell_type": "code",
   "execution_count": 355,
   "metadata": {
    "collapsed": true
   },
   "outputs": [],
   "source": [
    "def riemannplot(a,b,n,lrm,rec=False,xyc=False,bar_edge=True,uni_step=True):\n",
    "    if n<=0:\n",
    "        print(\"Error: n must be positive\")\n",
    "        return False\n",
    "    def fct(x):\n",
    "        return 1-x**2\n",
    "    \n",
    "    dic={\"left\":0, \"right\":1, \"middle\":0.5}\n",
    "    x = np.linspace(a,b,100)\n",
    "    y = fct(x)\n",
    "    \n",
    "    fig = plt.figure()\n",
    "    ax = fig.add_subplot(111)\n",
    "    ax.plot(x,y,'k')\n",
    "    ax.fill_between(x,y,alpha=0.5)\n",
    "    ax.text(0.6,0.9,'$f(x)=1-x^2$',fontsize=35)\n",
    "    if rec==False:\n",
    "        plt.show()\n",
    "        return\n",
    "    if uni_step:\n",
    "        dx = float((b-a)/n)\n",
    "        riemannx = np.linspace(a,b,n+1)[:-1]\n",
    "        h = np.ones(n)*dx\n",
    "    else:\n",
    "        rd = np.random.rand(n)\n",
    "        h = rd/np.sum(rd)*(b-a)\n",
    "        rd = np.insert(h,0,0)[:-1]\n",
    "        riemannx = a + np.cumsum(rd)   \n",
    "        \n",
    "    \n",
    "    riemanny = fct(riemannx+dic[lrm]*h)\n",
    "    \n",
    "    if bar_edge:\n",
    "        ax.bar(riemannx,riemanny,width=h,alpha=0.5,facecolor='orange',edgecolor='red',linewidth=2,align='edge')\n",
    "    else:\n",
    "        ax.bar(riemannx,riemanny,width=h,alpha=0.5,facecolor='orange',linewidth=2,align='edge')\n",
    "\n",
    "    ax.set_xlabel('x')\n",
    "    ax.set_ylabel('y')\n",
    "    ax.set_title('Riemann '+lrm.title()+' Sum for f(x)')\n",
    "    if xyc==False:\n",
    "        plt.show()\n",
    "        return\n",
    "    ax.scatter(riemannx+dic[lrm]*h,riemanny,c='k')\n",
    "    for xc,yc,dx in zip(riemannx,riemanny,h):\n",
    "        ax.text(xc+dic[lrm]*dx, yc+0.02, '('+format(xc+dic[lrm]*dx,'.3f')+', '+format(yc,'.3f')+')')\n",
    "    plt.show()\n"
   ]
  },
  {
   "cell_type": "code",
   "execution_count": 356,
   "metadata": {},
   "outputs": [
    {
     "data": {
      "application/vnd.jupyter.widget-view+json": {
       "model_id": "2740cd11af1b49508bcbe4c317e452fd"
      }
     },
     "metadata": {},
     "output_type": "display_data"
    }
   ],
   "source": [
    "#riemannplot(f,0,1,n,'right',xyc='None')\n",
    "interactive(riemannplot, a=(-1,0,0.5), b=(1,3,0.5), n=(1,50,1), lrm=['left','right','middle'], rec=False, xyc=False, bar_edge=True, uni_step=True)"
   ]
  }
 ],
 "metadata": {
  "kernelspec": {
   "display_name": "Python 3",
   "language": "python",
   "name": "python3"
  },
  "language_info": {
   "codemirror_mode": {
    "name": "ipython",
    "version": 3
   },
   "file_extension": ".py",
   "mimetype": "text/x-python",
   "name": "python",
   "nbconvert_exporter": "python",
   "pygments_lexer": "ipython3",
   "version": "3.6.1"
  },
  "latex_envs": {
   "LaTeX_envs_menu_present": true,
   "autocomplete": true,
   "bibliofile": "biblio.bib",
   "cite_by": "apalike",
   "current_citInitial": 1,
   "eqLabelWithNumbers": true,
   "eqNumInitial": 1,
   "hotkeys": {
    "equation": "Ctrl-E",
    "itemize": "Ctrl-I"
   },
   "labels_anchors": false,
   "latex_user_defs": false,
   "report_style_numbering": false,
   "user_envs_cfg": false
  },
  "toc": {
   "nav_menu": {},
   "number_sections": true,
   "sideBar": true,
   "skip_h1_title": false,
   "toc_cell": false,
   "toc_position": {},
   "toc_section_display": "block",
   "toc_window_display": false
  }
 },
 "nbformat": 4,
 "nbformat_minor": 2
}
